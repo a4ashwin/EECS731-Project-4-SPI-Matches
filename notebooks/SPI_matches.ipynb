{
 "cells": [
  {
   "cell_type": "markdown",
   "metadata": {},
   "source": [
    "Importing libraries for modelling and classification of data."
   ]
  },
  {
   "cell_type": "code",
   "execution_count": 1,
   "metadata": {
    "scrolled": true
   },
   "outputs": [],
   "source": [
    "import pandas as pd\n",
    "from sklearn.metrics import mean_absolute_error\n",
    "from sklearn.model_selection import train_test_split\n",
    "from sklearn.model_selection import train_test_split\n",
    "from sklearn.metrics import accuracy_score"
   ]
  },
  {
   "cell_type": "markdown",
   "metadata": {},
   "source": [
    "Importing the csv data from file- spi_matches.csv in pandas dataframe"
   ]
  },
  {
   "cell_type": "code",
   "execution_count": 2,
   "metadata": {},
   "outputs": [],
   "source": [
    "data = pd.read_csv(r'C:\\Stuff\\KU Study\\EECS 731 Intro to Data Science\\Project 4\\data\\external\\spi_matches.csv')"
   ]
  },
  {
   "cell_type": "markdown",
   "metadata": {},
   "source": [
    "Dropping the rows which are unnecessary in predicting the score of the teams."
   ]
  },
  {
   "cell_type": "code",
   "execution_count": 3,
   "metadata": {},
   "outputs": [
    {
     "data": {
      "text/html": [
       "<div>\n",
       "<style scoped>\n",
       "    .dataframe tbody tr th:only-of-type {\n",
       "        vertical-align: middle;\n",
       "    }\n",
       "\n",
       "    .dataframe tbody tr th {\n",
       "        vertical-align: top;\n",
       "    }\n",
       "\n",
       "    .dataframe thead th {\n",
       "        text-align: right;\n",
       "    }\n",
       "</style>\n",
       "<table border=\"1\" class=\"dataframe\">\n",
       "  <thead>\n",
       "    <tr style=\"text-align: right;\">\n",
       "      <th></th>\n",
       "      <th>team1</th>\n",
       "      <th>team2</th>\n",
       "      <th>spi1</th>\n",
       "      <th>spi2</th>\n",
       "      <th>prob1</th>\n",
       "      <th>prob2</th>\n",
       "      <th>probtie</th>\n",
       "      <th>importance1</th>\n",
       "      <th>importance2</th>\n",
       "      <th>score1</th>\n",
       "      <th>score2</th>\n",
       "    </tr>\n",
       "  </thead>\n",
       "  <tbody>\n",
       "    <tr>\n",
       "      <th>0</th>\n",
       "      <td>Bastia</td>\n",
       "      <td>Paris Saint-Germain</td>\n",
       "      <td>51.16</td>\n",
       "      <td>85.68</td>\n",
       "      <td>0.0463</td>\n",
       "      <td>0.8380</td>\n",
       "      <td>0.1157</td>\n",
       "      <td>32.4</td>\n",
       "      <td>67.7</td>\n",
       "      <td>0.0</td>\n",
       "      <td>1.0</td>\n",
       "    </tr>\n",
       "    <tr>\n",
       "      <th>1</th>\n",
       "      <td>AS Monaco</td>\n",
       "      <td>Guingamp</td>\n",
       "      <td>68.85</td>\n",
       "      <td>56.48</td>\n",
       "      <td>0.5714</td>\n",
       "      <td>0.1669</td>\n",
       "      <td>0.2617</td>\n",
       "      <td>53.7</td>\n",
       "      <td>22.9</td>\n",
       "      <td>2.0</td>\n",
       "      <td>2.0</td>\n",
       "    </tr>\n",
       "    <tr>\n",
       "      <th>2</th>\n",
       "      <td>Hull City</td>\n",
       "      <td>Leicester City</td>\n",
       "      <td>53.57</td>\n",
       "      <td>66.81</td>\n",
       "      <td>0.3459</td>\n",
       "      <td>0.3621</td>\n",
       "      <td>0.2921</td>\n",
       "      <td>38.1</td>\n",
       "      <td>22.2</td>\n",
       "      <td>2.0</td>\n",
       "      <td>1.0</td>\n",
       "    </tr>\n",
       "    <tr>\n",
       "      <th>3</th>\n",
       "      <td>Crystal Palace</td>\n",
       "      <td>West Bromwich Albion</td>\n",
       "      <td>55.19</td>\n",
       "      <td>58.66</td>\n",
       "      <td>0.4214</td>\n",
       "      <td>0.2939</td>\n",
       "      <td>0.2847</td>\n",
       "      <td>43.6</td>\n",
       "      <td>34.6</td>\n",
       "      <td>0.0</td>\n",
       "      <td>1.0</td>\n",
       "    </tr>\n",
       "    <tr>\n",
       "      <th>4</th>\n",
       "      <td>Everton</td>\n",
       "      <td>Tottenham Hotspur</td>\n",
       "      <td>68.02</td>\n",
       "      <td>73.25</td>\n",
       "      <td>0.3910</td>\n",
       "      <td>0.3401</td>\n",
       "      <td>0.2689</td>\n",
       "      <td>31.9</td>\n",
       "      <td>48.0</td>\n",
       "      <td>1.0</td>\n",
       "      <td>1.0</td>\n",
       "    </tr>\n",
       "  </tbody>\n",
       "</table>\n",
       "</div>"
      ],
      "text/plain": [
       "            team1                 team2   spi1   spi2   prob1   prob2  \\\n",
       "0          Bastia   Paris Saint-Germain  51.16  85.68  0.0463  0.8380   \n",
       "1       AS Monaco              Guingamp  68.85  56.48  0.5714  0.1669   \n",
       "2       Hull City        Leicester City  53.57  66.81  0.3459  0.3621   \n",
       "3  Crystal Palace  West Bromwich Albion  55.19  58.66  0.4214  0.2939   \n",
       "4         Everton     Tottenham Hotspur  68.02  73.25  0.3910  0.3401   \n",
       "\n",
       "   probtie  importance1  importance2  score1  score2  \n",
       "0   0.1157         32.4         67.7     0.0     1.0  \n",
       "1   0.2617         53.7         22.9     2.0     2.0  \n",
       "2   0.2921         38.1         22.2     2.0     1.0  \n",
       "3   0.2847         43.6         34.6     0.0     1.0  \n",
       "4   0.2689         31.9         48.0     1.0     1.0  "
      ]
     },
     "execution_count": 3,
     "metadata": {},
     "output_type": "execute_result"
    }
   ],
   "source": [
    "data = data.drop([\"season\",\"date\", \"league_id\", \"league\", \"proj_score1\",\"proj_score2\", \"xg1\",\"xg2\",\"nsxg1\",\"nsxg2\",\"adj_score1\",\"adj_score2\"],axis='columns')\n",
    "data.head()"
   ]
  },
  {
   "cell_type": "markdown",
   "metadata": {},
   "source": [
    "Dropping the rows with NaN values so we don't have to include the values of other features in the dataset"
   ]
  },
  {
   "cell_type": "code",
   "execution_count": 4,
   "metadata": {},
   "outputs": [],
   "source": [
    "data.dropna(subset = [\"spi1\"], inplace=True)\n",
    "data.dropna(subset = [\"spi2\"], inplace=True)\n",
    "data.dropna(subset = [\"prob1\"], inplace=True)\n",
    "data.dropna(subset = [\"prob2\"], inplace=True)\n",
    "data.dropna(subset = [\"probtie\"], inplace=True)\n",
    "data.dropna(subset = [\"importance1\"], inplace=True)\n",
    "data.dropna(subset = [\"importance2\"], inplace=True)\n",
    "data.dropna(subset = [\"score1\"], inplace=True)\n",
    "data.dropna(subset = [\"score2\"], inplace=True)"
   ]
  },
  {
   "cell_type": "markdown",
   "metadata": {},
   "source": [
    "Splitting the dataset in to features and target(We have y1 as target score for team1 and similarly y2 for team2)"
   ]
  },
  {
   "cell_type": "code",
   "execution_count": 5,
   "metadata": {},
   "outputs": [],
   "source": [
    "X=data.drop(columns=['score1', 'score2'])\n",
    "y1=data['score1']\n",
    "y2=data['score2']"
   ]
  },
  {
   "cell_type": "markdown",
   "metadata": {},
   "source": [
    "Using LabelEncoder to encode to string values present in the team1 and team2 column"
   ]
  },
  {
   "cell_type": "code",
   "execution_count": 6,
   "metadata": {},
   "outputs": [],
   "source": [
    "from sklearn.preprocessing import LabelEncoder\n",
    "le=LabelEncoder()\n",
    "team1=le.fit_transform(X[\"team1\"])\n",
    "team2=le.fit_transform(X[\"team2\"])"
   ]
  },
  {
   "cell_type": "markdown",
   "metadata": {},
   "source": [
    "Replacing the string values in the dataframe with respective numerical values"
   ]
  },
  {
   "cell_type": "code",
   "execution_count": 7,
   "metadata": {},
   "outputs": [],
   "source": [
    "X[\"team1\"]=team1\n",
    "X[\"team2\"]=team2"
   ]
  },
  {
   "cell_type": "markdown",
   "metadata": {},
   "source": [
    "Splitting the dataframes in to test and training datasets in 10% and 90% respectively for both team1 and team2"
   ]
  },
  {
   "cell_type": "code",
   "execution_count": 8,
   "metadata": {},
   "outputs": [],
   "source": [
    "X1_train, X1_validation, Y1_train, Y1_validation = train_test_split(X, y1, test_size=0.1, random_state=1)\n",
    "X2_train, X2_validation, Y2_train, Y2_validation = train_test_split(X, y2, test_size=0.1, random_state=1)"
   ]
  },
  {
   "cell_type": "markdown",
   "metadata": {},
   "source": [
    "Implementing RandomForestClassifier Regression model "
   ]
  },
  {
   "cell_type": "code",
   "execution_count": 9,
   "metadata": {},
   "outputs": [],
   "source": [
    "from sklearn.ensemble import RandomForestClassifier\n",
    "model = RandomForestClassifier()"
   ]
  },
  {
   "cell_type": "markdown",
   "metadata": {},
   "source": [
    "Fitting RandomForestClassifier model with training data for team1"
   ]
  },
  {
   "cell_type": "code",
   "execution_count": 10,
   "metadata": {},
   "outputs": [],
   "source": [
    "model.fit(X1_train, Y1_train)\n",
    "predictions1 = model.predict(X1_validation)"
   ]
  },
  {
   "cell_type": "markdown",
   "metadata": {},
   "source": [
    "Fitting RandomForestClassifier model with training data for team2"
   ]
  },
  {
   "cell_type": "code",
   "execution_count": 11,
   "metadata": {},
   "outputs": [],
   "source": [
    "model.fit(X2_train,Y2_train)\n",
    "predictions2=model.predict(X2_validation)"
   ]
  },
  {
   "cell_type": "markdown",
   "metadata": {},
   "source": [
    "Printing the accuracy for both team 1 and team 2"
   ]
  },
  {
   "cell_type": "code",
   "execution_count": 12,
   "metadata": {},
   "outputs": [
    {
     "name": "stdout",
     "output_type": "stream",
     "text": [
      "RandomForest: team1 accuracy\n",
      "0.29833863556026863\n",
      "RandomForest: team2 accuracy\n",
      "0.35418875927889715\n"
     ]
    }
   ],
   "source": [
    "print(\"RandomForest: team1 accuracy\")\n",
    "print(accuracy_score(Y1_validation, predictions1))\n",
    "print(\"RandomForest: team2 accuracy\")\n",
    "print(accuracy_score(Y2_validation, predictions2))"
   ]
  },
  {
   "cell_type": "markdown",
   "metadata": {},
   "source": [
    "Adding the column of predicted score in the dataframe and saving it in file."
   ]
  },
  {
   "cell_type": "code",
   "execution_count": 13,
   "metadata": {},
   "outputs": [],
   "source": [
    "results=X1_validation.copy()\n",
    "results['RandomForest_PredScore_team1']=predictions1\n",
    "results['RandomForest_PredScore_team2']=predictions2\n"
   ]
  },
  {
   "cell_type": "markdown",
   "metadata": {},
   "source": [
    "Implementing ExtraTreesClassifier Regression model "
   ]
  },
  {
   "cell_type": "code",
   "execution_count": 14,
   "metadata": {},
   "outputs": [],
   "source": [
    "from sklearn.ensemble import ExtraTreesClassifier\n",
    "model = ExtraTreesClassifier()"
   ]
  },
  {
   "cell_type": "markdown",
   "metadata": {},
   "source": [
    "Fitting ExtraTreesClassifier model with training data for team1"
   ]
  },
  {
   "cell_type": "code",
   "execution_count": 15,
   "metadata": {},
   "outputs": [],
   "source": [
    "model.fit(X1_train, Y1_train)\n",
    "predictions1 = model.predict(X1_validation)"
   ]
  },
  {
   "cell_type": "markdown",
   "metadata": {},
   "source": [
    "Fitting ExtraTreesClassifier model with training data for team2"
   ]
  },
  {
   "cell_type": "code",
   "execution_count": 16,
   "metadata": {},
   "outputs": [],
   "source": [
    "model.fit(X2_train,Y2_train)\n",
    "predictions2=model.predict(X2_validation)"
   ]
  },
  {
   "cell_type": "markdown",
   "metadata": {},
   "source": [
    "Adding the column of predicted score in the dataframe and saving it in file."
   ]
  },
  {
   "cell_type": "code",
   "execution_count": 17,
   "metadata": {},
   "outputs": [],
   "source": [
    "results['ExtraTrees_PredScore_team1']=predictions1\n",
    "results['ExtraTrees_PredScore_team2']=predictions2"
   ]
  },
  {
   "cell_type": "markdown",
   "metadata": {},
   "source": [
    "Printing the accuracy for both team 1 and team 2"
   ]
  },
  {
   "cell_type": "code",
   "execution_count": 18,
   "metadata": {},
   "outputs": [
    {
     "name": "stdout",
     "output_type": "stream",
     "text": [
      "ExtraTreesClassifier: team1 accuracy\n",
      "0.3054082714740191\n",
      "ExtraTreesClassifier: team2 accuracy\n",
      "0.34817956875220923\n"
     ]
    }
   ],
   "source": [
    "print(\"ExtraTreesClassifier: team1 accuracy\")\n",
    "print(accuracy_score(Y1_validation, predictions1))\n",
    "print(\"ExtraTreesClassifier: team2 accuracy\")\n",
    "print(accuracy_score(Y2_validation, predictions2))"
   ]
  },
  {
   "cell_type": "markdown",
   "metadata": {},
   "source": [
    "Implementing MLPClassifier Regression model from Neural Networks"
   ]
  },
  {
   "cell_type": "code",
   "execution_count": 19,
   "metadata": {},
   "outputs": [],
   "source": [
    "from sklearn.neural_network import MLPClassifier\n",
    "model = MLPClassifier(max_iter=800)"
   ]
  },
  {
   "cell_type": "markdown",
   "metadata": {},
   "source": [
    "Fitting MLPClassifier model with training data for team1"
   ]
  },
  {
   "cell_type": "code",
   "execution_count": 20,
   "metadata": {},
   "outputs": [],
   "source": [
    "model.fit(X1_train, Y1_train)\n",
    "predictions1 = model.predict(X1_validation)"
   ]
  },
  {
   "cell_type": "markdown",
   "metadata": {},
   "source": [
    "Fitting MLPClassifier model with training data for team2"
   ]
  },
  {
   "cell_type": "code",
   "execution_count": 21,
   "metadata": {},
   "outputs": [],
   "source": [
    "model.fit(X2_train,Y2_train)\n",
    "predictions2=model.predict(X2_validation)"
   ]
  },
  {
   "cell_type": "markdown",
   "metadata": {},
   "source": [
    "Adding the column of predicted score in the dataframe and saving it in file."
   ]
  },
  {
   "cell_type": "code",
   "execution_count": 22,
   "metadata": {},
   "outputs": [],
   "source": [
    "results['MLP_NN_PredScore_team1']=predictions1\n",
    "results['MLP_NN_PredScore_team2']=predictions2"
   ]
  },
  {
   "cell_type": "markdown",
   "metadata": {},
   "source": [
    "Printing the accuracy for both team 1 and team 2"
   ]
  },
  {
   "cell_type": "code",
   "execution_count": 23,
   "metadata": {},
   "outputs": [
    {
     "name": "stdout",
     "output_type": "stream",
     "text": [
      "MLPClassifier: team1 accuracy\n",
      "0.26228349240014137\n",
      "MLPClassifier: team2 accuracy\n",
      "0.3340402969247084\n"
     ]
    }
   ],
   "source": [
    "print(\"MLPClassifier: team1 accuracy\")\n",
    "print(accuracy_score(Y1_validation, predictions1))\n",
    "print(\"MLPClassifier: team2 accuracy\")\n",
    "print(accuracy_score(Y2_validation, predictions2))"
   ]
  },
  {
   "cell_type": "markdown",
   "metadata": {},
   "source": [
    "Saving the Predicted Scores for both the teams in a file."
   ]
  },
  {
   "cell_type": "code",
   "execution_count": 24,
   "metadata": {},
   "outputs": [],
   "source": [
    "results.to_csv(r\"C:\\Stuff\\KU Study\\EECS 731 Intro to Data Science\\Project 4\\data\\processed\\Predicted_score_team1_csv\",index=False) "
   ]
  },
  {
   "cell_type": "code",
   "execution_count": 25,
   "metadata": {},
   "outputs": [
    {
     "data": {
      "text/html": [
       "<div>\n",
       "<style scoped>\n",
       "    .dataframe tbody tr th:only-of-type {\n",
       "        vertical-align: middle;\n",
       "    }\n",
       "\n",
       "    .dataframe tbody tr th {\n",
       "        vertical-align: top;\n",
       "    }\n",
       "\n",
       "    .dataframe thead th {\n",
       "        text-align: right;\n",
       "    }\n",
       "</style>\n",
       "<table border=\"1\" class=\"dataframe\">\n",
       "  <thead>\n",
       "    <tr style=\"text-align: right;\">\n",
       "      <th></th>\n",
       "      <th>team1</th>\n",
       "      <th>team2</th>\n",
       "      <th>spi1</th>\n",
       "      <th>spi2</th>\n",
       "      <th>prob1</th>\n",
       "      <th>prob2</th>\n",
       "      <th>probtie</th>\n",
       "      <th>importance1</th>\n",
       "      <th>importance2</th>\n",
       "      <th>RandomForest_PredScore_team1</th>\n",
       "      <th>RandomForest_PredScore_team2</th>\n",
       "      <th>ExtraTrees_PredScore_team1</th>\n",
       "      <th>ExtraTrees_PredScore_team2</th>\n",
       "      <th>MLP_NN_PredScore_team1</th>\n",
       "      <th>MLP_NN_PredScore_team2</th>\n",
       "    </tr>\n",
       "  </thead>\n",
       "  <tbody>\n",
       "    <tr>\n",
       "      <th>2141</th>\n",
       "      <td>235</td>\n",
       "      <td>80</td>\n",
       "      <td>59.54</td>\n",
       "      <td>71.99</td>\n",
       "      <td>0.3757</td>\n",
       "      <td>0.3674</td>\n",
       "      <td>0.2569</td>\n",
       "      <td>71.8</td>\n",
       "      <td>1.3</td>\n",
       "      <td>0.0</td>\n",
       "      <td>1.0</td>\n",
       "      <td>2.0</td>\n",
       "      <td>1.0</td>\n",
       "      <td>0.0</td>\n",
       "      <td>0.0</td>\n",
       "    </tr>\n",
       "    <tr>\n",
       "      <th>10430</th>\n",
       "      <td>158</td>\n",
       "      <td>443</td>\n",
       "      <td>32.22</td>\n",
       "      <td>27.37</td>\n",
       "      <td>0.5610</td>\n",
       "      <td>0.2264</td>\n",
       "      <td>0.2127</td>\n",
       "      <td>20.7</td>\n",
       "      <td>20.7</td>\n",
       "      <td>2.0</td>\n",
       "      <td>1.0</td>\n",
       "      <td>2.0</td>\n",
       "      <td>1.0</td>\n",
       "      <td>1.0</td>\n",
       "      <td>0.0</td>\n",
       "    </tr>\n",
       "    <tr>\n",
       "      <th>9313</th>\n",
       "      <td>198</td>\n",
       "      <td>689</td>\n",
       "      <td>47.49</td>\n",
       "      <td>21.30</td>\n",
       "      <td>0.7901</td>\n",
       "      <td>0.0646</td>\n",
       "      <td>0.1453</td>\n",
       "      <td>28.0</td>\n",
       "      <td>38.6</td>\n",
       "      <td>1.0</td>\n",
       "      <td>0.0</td>\n",
       "      <td>1.0</td>\n",
       "      <td>0.0</td>\n",
       "      <td>2.0</td>\n",
       "      <td>0.0</td>\n",
       "    </tr>\n",
       "    <tr>\n",
       "      <th>32696</th>\n",
       "      <td>322</td>\n",
       "      <td>405</td>\n",
       "      <td>12.07</td>\n",
       "      <td>11.62</td>\n",
       "      <td>0.4158</td>\n",
       "      <td>0.3368</td>\n",
       "      <td>0.2474</td>\n",
       "      <td>30.8</td>\n",
       "      <td>25.8</td>\n",
       "      <td>0.0</td>\n",
       "      <td>1.0</td>\n",
       "      <td>0.0</td>\n",
       "      <td>1.0</td>\n",
       "      <td>0.0</td>\n",
       "      <td>0.0</td>\n",
       "    </tr>\n",
       "    <tr>\n",
       "      <th>26946</th>\n",
       "      <td>440</td>\n",
       "      <td>221</td>\n",
       "      <td>25.79</td>\n",
       "      <td>28.75</td>\n",
       "      <td>0.4119</td>\n",
       "      <td>0.3004</td>\n",
       "      <td>0.2877</td>\n",
       "      <td>50.3</td>\n",
       "      <td>44.8</td>\n",
       "      <td>0.0</td>\n",
       "      <td>0.0</td>\n",
       "      <td>1.0</td>\n",
       "      <td>0.0</td>\n",
       "      <td>0.0</td>\n",
       "      <td>0.0</td>\n",
       "    </tr>\n",
       "    <tr>\n",
       "      <th>...</th>\n",
       "      <td>...</td>\n",
       "      <td>...</td>\n",
       "      <td>...</td>\n",
       "      <td>...</td>\n",
       "      <td>...</td>\n",
       "      <td>...</td>\n",
       "      <td>...</td>\n",
       "      <td>...</td>\n",
       "      <td>...</td>\n",
       "      <td>...</td>\n",
       "      <td>...</td>\n",
       "      <td>...</td>\n",
       "      <td>...</td>\n",
       "      <td>...</td>\n",
       "      <td>...</td>\n",
       "    </tr>\n",
       "    <tr>\n",
       "      <th>26237</th>\n",
       "      <td>59</td>\n",
       "      <td>456</td>\n",
       "      <td>41.34</td>\n",
       "      <td>46.45</td>\n",
       "      <td>0.4308</td>\n",
       "      <td>0.2916</td>\n",
       "      <td>0.2776</td>\n",
       "      <td>48.5</td>\n",
       "      <td>11.3</td>\n",
       "      <td>0.0</td>\n",
       "      <td>0.0</td>\n",
       "      <td>0.0</td>\n",
       "      <td>1.0</td>\n",
       "      <td>0.0</td>\n",
       "      <td>0.0</td>\n",
       "    </tr>\n",
       "    <tr>\n",
       "      <th>15034</th>\n",
       "      <td>139</td>\n",
       "      <td>60</td>\n",
       "      <td>51.37</td>\n",
       "      <td>58.78</td>\n",
       "      <td>0.4658</td>\n",
       "      <td>0.2764</td>\n",
       "      <td>0.2578</td>\n",
       "      <td>46.2</td>\n",
       "      <td>0.0</td>\n",
       "      <td>1.0</td>\n",
       "      <td>1.0</td>\n",
       "      <td>1.0</td>\n",
       "      <td>1.0</td>\n",
       "      <td>1.0</td>\n",
       "      <td>0.0</td>\n",
       "    </tr>\n",
       "    <tr>\n",
       "      <th>8585</th>\n",
       "      <td>755</td>\n",
       "      <td>303</td>\n",
       "      <td>64.78</td>\n",
       "      <td>42.07</td>\n",
       "      <td>0.6613</td>\n",
       "      <td>0.1289</td>\n",
       "      <td>0.2098</td>\n",
       "      <td>28.4</td>\n",
       "      <td>4.3</td>\n",
       "      <td>2.0</td>\n",
       "      <td>0.0</td>\n",
       "      <td>2.0</td>\n",
       "      <td>1.0</td>\n",
       "      <td>2.0</td>\n",
       "      <td>0.0</td>\n",
       "    </tr>\n",
       "    <tr>\n",
       "      <th>16112</th>\n",
       "      <td>740</td>\n",
       "      <td>81</td>\n",
       "      <td>64.79</td>\n",
       "      <td>90.23</td>\n",
       "      <td>0.1278</td>\n",
       "      <td>0.7030</td>\n",
       "      <td>0.1692</td>\n",
       "      <td>23.7</td>\n",
       "      <td>77.1</td>\n",
       "      <td>1.0</td>\n",
       "      <td>2.0</td>\n",
       "      <td>0.0</td>\n",
       "      <td>1.0</td>\n",
       "      <td>0.0</td>\n",
       "      <td>0.0</td>\n",
       "    </tr>\n",
       "    <tr>\n",
       "      <th>32108</th>\n",
       "      <td>755</td>\n",
       "      <td>237</td>\n",
       "      <td>62.22</td>\n",
       "      <td>44.16</td>\n",
       "      <td>0.6350</td>\n",
       "      <td>0.1358</td>\n",
       "      <td>0.2293</td>\n",
       "      <td>100.0</td>\n",
       "      <td>0.6</td>\n",
       "      <td>2.0</td>\n",
       "      <td>1.0</td>\n",
       "      <td>2.0</td>\n",
       "      <td>1.0</td>\n",
       "      <td>2.0</td>\n",
       "      <td>0.0</td>\n",
       "    </tr>\n",
       "  </tbody>\n",
       "</table>\n",
       "<p>2829 rows × 15 columns</p>\n",
       "</div>"
      ],
      "text/plain": [
       "       team1  team2   spi1   spi2   prob1   prob2  probtie  importance1  \\\n",
       "2141     235     80  59.54  71.99  0.3757  0.3674   0.2569         71.8   \n",
       "10430    158    443  32.22  27.37  0.5610  0.2264   0.2127         20.7   \n",
       "9313     198    689  47.49  21.30  0.7901  0.0646   0.1453         28.0   \n",
       "32696    322    405  12.07  11.62  0.4158  0.3368   0.2474         30.8   \n",
       "26946    440    221  25.79  28.75  0.4119  0.3004   0.2877         50.3   \n",
       "...      ...    ...    ...    ...     ...     ...      ...          ...   \n",
       "26237     59    456  41.34  46.45  0.4308  0.2916   0.2776         48.5   \n",
       "15034    139     60  51.37  58.78  0.4658  0.2764   0.2578         46.2   \n",
       "8585     755    303  64.78  42.07  0.6613  0.1289   0.2098         28.4   \n",
       "16112    740     81  64.79  90.23  0.1278  0.7030   0.1692         23.7   \n",
       "32108    755    237  62.22  44.16  0.6350  0.1358   0.2293        100.0   \n",
       "\n",
       "       importance2  RandomForest_PredScore_team1  \\\n",
       "2141           1.3                           0.0   \n",
       "10430         20.7                           2.0   \n",
       "9313          38.6                           1.0   \n",
       "32696         25.8                           0.0   \n",
       "26946         44.8                           0.0   \n",
       "...            ...                           ...   \n",
       "26237         11.3                           0.0   \n",
       "15034          0.0                           1.0   \n",
       "8585           4.3                           2.0   \n",
       "16112         77.1                           1.0   \n",
       "32108          0.6                           2.0   \n",
       "\n",
       "       RandomForest_PredScore_team2  ExtraTrees_PredScore_team1  \\\n",
       "2141                            1.0                         2.0   \n",
       "10430                           1.0                         2.0   \n",
       "9313                            0.0                         1.0   \n",
       "32696                           1.0                         0.0   \n",
       "26946                           0.0                         1.0   \n",
       "...                             ...                         ...   \n",
       "26237                           0.0                         0.0   \n",
       "15034                           1.0                         1.0   \n",
       "8585                            0.0                         2.0   \n",
       "16112                           2.0                         0.0   \n",
       "32108                           1.0                         2.0   \n",
       "\n",
       "       ExtraTrees_PredScore_team2  MLP_NN_PredScore_team1  \\\n",
       "2141                          1.0                     0.0   \n",
       "10430                         1.0                     1.0   \n",
       "9313                          0.0                     2.0   \n",
       "32696                         1.0                     0.0   \n",
       "26946                         0.0                     0.0   \n",
       "...                           ...                     ...   \n",
       "26237                         1.0                     0.0   \n",
       "15034                         1.0                     1.0   \n",
       "8585                          1.0                     2.0   \n",
       "16112                         1.0                     0.0   \n",
       "32108                         1.0                     2.0   \n",
       "\n",
       "       MLP_NN_PredScore_team2  \n",
       "2141                      0.0  \n",
       "10430                     0.0  \n",
       "9313                      0.0  \n",
       "32696                     0.0  \n",
       "26946                     0.0  \n",
       "...                       ...  \n",
       "26237                     0.0  \n",
       "15034                     0.0  \n",
       "8585                      0.0  \n",
       "16112                     0.0  \n",
       "32108                     0.0  \n",
       "\n",
       "[2829 rows x 15 columns]"
      ]
     },
     "execution_count": 25,
     "metadata": {},
     "output_type": "execute_result"
    }
   ],
   "source": [
    "results"
   ]
  }
 ],
 "metadata": {
  "kernelspec": {
   "display_name": "Python 3",
   "language": "python",
   "name": "python3"
  },
  "language_info": {
   "codemirror_mode": {
    "name": "ipython",
    "version": 3
   },
   "file_extension": ".py",
   "mimetype": "text/x-python",
   "name": "python",
   "nbconvert_exporter": "python",
   "pygments_lexer": "ipython3",
   "version": "3.8.3"
  }
 },
 "nbformat": 4,
 "nbformat_minor": 4
}
